{
  "nbformat": 4,
  "nbformat_minor": 0,
  "metadata": {
    "colab": {
      "cell_execution_strategy": "setup",
      "provenance": []
    },
    "kernelspec": {
      "name": "python3",
      "display_name": "Python 3"
    },
    "language_info": {
      "name": "python"
    },
    "widgets": {
      "application/vnd.jupyter.widget-state+json": {
        "a410b9c0ac1b473793e08f4473355c99": {
          "model_module": "@jupyter-widgets/controls",
          "model_name": "HBoxModel",
          "model_module_version": "1.5.0",
          "state": {
            "_dom_classes": [],
            "_model_module": "@jupyter-widgets/controls",
            "_model_module_version": "1.5.0",
            "_model_name": "HBoxModel",
            "_view_count": null,
            "_view_module": "@jupyter-widgets/controls",
            "_view_module_version": "1.5.0",
            "_view_name": "HBoxView",
            "box_style": "",
            "children": [
              "IPY_MODEL_102fc725ca5a4898b7d6a7910d6952a0",
              "IPY_MODEL_15d8178e2307405abf5ea7368a6489d4",
              "IPY_MODEL_eda914b3a1974a1d99747aaa531ea5cc"
            ],
            "layout": "IPY_MODEL_96534ffd3235441897808acc9b973e6c"
          }
        },
        "102fc725ca5a4898b7d6a7910d6952a0": {
          "model_module": "@jupyter-widgets/controls",
          "model_name": "HTMLModel",
          "model_module_version": "1.5.0",
          "state": {
            "_dom_classes": [],
            "_model_module": "@jupyter-widgets/controls",
            "_model_module_version": "1.5.0",
            "_model_name": "HTMLModel",
            "_view_count": null,
            "_view_module": "@jupyter-widgets/controls",
            "_view_module_version": "1.5.0",
            "_view_name": "HTMLView",
            "description": "",
            "description_tooltip": null,
            "layout": "IPY_MODEL_829e39a098e04f94b56518fd3507cb28",
            "placeholder": "​",
            "style": "IPY_MODEL_0bdffbc404244b2eb3df4e7fa19d484b",
            "value": "Job ID 15c9cb67-50fc-4f59-9324-c096d394df05 successfully executed: 100%"
          }
        },
        "15d8178e2307405abf5ea7368a6489d4": {
          "model_module": "@jupyter-widgets/controls",
          "model_name": "FloatProgressModel",
          "model_module_version": "1.5.0",
          "state": {
            "_dom_classes": [],
            "_model_module": "@jupyter-widgets/controls",
            "_model_module_version": "1.5.0",
            "_model_name": "FloatProgressModel",
            "_view_count": null,
            "_view_module": "@jupyter-widgets/controls",
            "_view_module_version": "1.5.0",
            "_view_name": "ProgressView",
            "bar_style": "success",
            "description": "",
            "description_tooltip": null,
            "layout": "IPY_MODEL_e047330c5a87436b97d95062efea8b35",
            "max": 1,
            "min": 0,
            "orientation": "horizontal",
            "style": "IPY_MODEL_6f58e4862c6245ceb6069ed43b63a86d",
            "value": 1
          }
        },
        "eda914b3a1974a1d99747aaa531ea5cc": {
          "model_module": "@jupyter-widgets/controls",
          "model_name": "HTMLModel",
          "model_module_version": "1.5.0",
          "state": {
            "_dom_classes": [],
            "_model_module": "@jupyter-widgets/controls",
            "_model_module_version": "1.5.0",
            "_model_name": "HTMLModel",
            "_view_count": null,
            "_view_module": "@jupyter-widgets/controls",
            "_view_module_version": "1.5.0",
            "_view_name": "HTMLView",
            "description": "",
            "description_tooltip": null,
            "layout": "IPY_MODEL_3acc278f0362450d9dc2d737a4842941",
            "placeholder": "​",
            "style": "IPY_MODEL_db6e06667add473a9243add6d17d973c",
            "value": ""
          }
        },
        "96534ffd3235441897808acc9b973e6c": {
          "model_module": "@jupyter-widgets/base",
          "model_name": "LayoutModel",
          "model_module_version": "1.2.0",
          "state": {
            "_model_module": "@jupyter-widgets/base",
            "_model_module_version": "1.2.0",
            "_model_name": "LayoutModel",
            "_view_count": null,
            "_view_module": "@jupyter-widgets/base",
            "_view_module_version": "1.2.0",
            "_view_name": "LayoutView",
            "align_content": null,
            "align_items": null,
            "align_self": null,
            "border": null,
            "bottom": null,
            "display": null,
            "flex": null,
            "flex_flow": null,
            "grid_area": null,
            "grid_auto_columns": null,
            "grid_auto_flow": null,
            "grid_auto_rows": null,
            "grid_column": null,
            "grid_gap": null,
            "grid_row": null,
            "grid_template_areas": null,
            "grid_template_columns": null,
            "grid_template_rows": null,
            "height": null,
            "justify_content": null,
            "justify_items": null,
            "left": null,
            "margin": null,
            "max_height": null,
            "max_width": null,
            "min_height": null,
            "min_width": null,
            "object_fit": null,
            "object_position": null,
            "order": null,
            "overflow": null,
            "overflow_x": null,
            "overflow_y": null,
            "padding": null,
            "right": null,
            "top": null,
            "visibility": null,
            "width": null
          }
        },
        "829e39a098e04f94b56518fd3507cb28": {
          "model_module": "@jupyter-widgets/base",
          "model_name": "LayoutModel",
          "model_module_version": "1.2.0",
          "state": {
            "_model_module": "@jupyter-widgets/base",
            "_model_module_version": "1.2.0",
            "_model_name": "LayoutModel",
            "_view_count": null,
            "_view_module": "@jupyter-widgets/base",
            "_view_module_version": "1.2.0",
            "_view_name": "LayoutView",
            "align_content": null,
            "align_items": null,
            "align_self": null,
            "border": null,
            "bottom": null,
            "display": null,
            "flex": null,
            "flex_flow": null,
            "grid_area": null,
            "grid_auto_columns": null,
            "grid_auto_flow": null,
            "grid_auto_rows": null,
            "grid_column": null,
            "grid_gap": null,
            "grid_row": null,
            "grid_template_areas": null,
            "grid_template_columns": null,
            "grid_template_rows": null,
            "height": null,
            "justify_content": null,
            "justify_items": null,
            "left": null,
            "margin": null,
            "max_height": null,
            "max_width": null,
            "min_height": null,
            "min_width": null,
            "object_fit": null,
            "object_position": null,
            "order": null,
            "overflow": null,
            "overflow_x": null,
            "overflow_y": null,
            "padding": null,
            "right": null,
            "top": null,
            "visibility": null,
            "width": null
          }
        },
        "0bdffbc404244b2eb3df4e7fa19d484b": {
          "model_module": "@jupyter-widgets/controls",
          "model_name": "DescriptionStyleModel",
          "model_module_version": "1.5.0",
          "state": {
            "_model_module": "@jupyter-widgets/controls",
            "_model_module_version": "1.5.0",
            "_model_name": "DescriptionStyleModel",
            "_view_count": null,
            "_view_module": "@jupyter-widgets/base",
            "_view_module_version": "1.2.0",
            "_view_name": "StyleView",
            "description_width": ""
          }
        },
        "e047330c5a87436b97d95062efea8b35": {
          "model_module": "@jupyter-widgets/base",
          "model_name": "LayoutModel",
          "model_module_version": "1.2.0",
          "state": {
            "_model_module": "@jupyter-widgets/base",
            "_model_module_version": "1.2.0",
            "_model_name": "LayoutModel",
            "_view_count": null,
            "_view_module": "@jupyter-widgets/base",
            "_view_module_version": "1.2.0",
            "_view_name": "LayoutView",
            "align_content": null,
            "align_items": null,
            "align_self": null,
            "border": null,
            "bottom": null,
            "display": null,
            "flex": null,
            "flex_flow": null,
            "grid_area": null,
            "grid_auto_columns": null,
            "grid_auto_flow": null,
            "grid_auto_rows": null,
            "grid_column": null,
            "grid_gap": null,
            "grid_row": null,
            "grid_template_areas": null,
            "grid_template_columns": null,
            "grid_template_rows": null,
            "height": null,
            "justify_content": null,
            "justify_items": null,
            "left": null,
            "margin": null,
            "max_height": null,
            "max_width": null,
            "min_height": null,
            "min_width": null,
            "object_fit": null,
            "object_position": null,
            "order": null,
            "overflow": null,
            "overflow_x": null,
            "overflow_y": null,
            "padding": null,
            "right": null,
            "top": null,
            "visibility": null,
            "width": null
          }
        },
        "6f58e4862c6245ceb6069ed43b63a86d": {
          "model_module": "@jupyter-widgets/controls",
          "model_name": "ProgressStyleModel",
          "model_module_version": "1.5.0",
          "state": {
            "_model_module": "@jupyter-widgets/controls",
            "_model_module_version": "1.5.0",
            "_model_name": "ProgressStyleModel",
            "_view_count": null,
            "_view_module": "@jupyter-widgets/base",
            "_view_module_version": "1.2.0",
            "_view_name": "StyleView",
            "bar_color": null,
            "description_width": ""
          }
        },
        "3acc278f0362450d9dc2d737a4842941": {
          "model_module": "@jupyter-widgets/base",
          "model_name": "LayoutModel",
          "model_module_version": "1.2.0",
          "state": {
            "_model_module": "@jupyter-widgets/base",
            "_model_module_version": "1.2.0",
            "_model_name": "LayoutModel",
            "_view_count": null,
            "_view_module": "@jupyter-widgets/base",
            "_view_module_version": "1.2.0",
            "_view_name": "LayoutView",
            "align_content": null,
            "align_items": null,
            "align_self": null,
            "border": null,
            "bottom": null,
            "display": null,
            "flex": null,
            "flex_flow": null,
            "grid_area": null,
            "grid_auto_columns": null,
            "grid_auto_flow": null,
            "grid_auto_rows": null,
            "grid_column": null,
            "grid_gap": null,
            "grid_row": null,
            "grid_template_areas": null,
            "grid_template_columns": null,
            "grid_template_rows": null,
            "height": null,
            "justify_content": null,
            "justify_items": null,
            "left": null,
            "margin": null,
            "max_height": null,
            "max_width": null,
            "min_height": null,
            "min_width": null,
            "object_fit": null,
            "object_position": null,
            "order": null,
            "overflow": null,
            "overflow_x": null,
            "overflow_y": null,
            "padding": null,
            "right": null,
            "top": null,
            "visibility": null,
            "width": null
          }
        },
        "db6e06667add473a9243add6d17d973c": {
          "model_module": "@jupyter-widgets/controls",
          "model_name": "DescriptionStyleModel",
          "model_module_version": "1.5.0",
          "state": {
            "_model_module": "@jupyter-widgets/controls",
            "_model_module_version": "1.5.0",
            "_model_name": "DescriptionStyleModel",
            "_view_count": null,
            "_view_module": "@jupyter-widgets/base",
            "_view_module_version": "1.2.0",
            "_view_name": "StyleView",
            "description_width": ""
          }
        }
      }
    }
  },
  "cells": [
    {
      "cell_type": "markdown",
      "source": [
        "# **Gemini for Data Scientists**\n",
        "## Objectives\n",
        "In this lab, you learn how to perform the following tasks:\n",
        "\n",
        "* Use Colab Enterprise Python notebooks inside BigQuery Studio.\n",
        "* Use BigQuery DataFrames inside of BigQuery Studio.\n",
        "* Use Gemini to generate code from natural language prompts.\n",
        "* Build a K-means clustering model.\n",
        "* Generate a visualization of the clusters.\n",
        "* Use the text-bison model to develop the next steps for a marketing campaign.\n",
        "* Clean up project resources.\n",
        "\n",
        "---\n",
        "## **Task 1.** Create a BigQuery dataset for your project\n",
        "In this task, you will create the ecommerce dataset in BigQuery. The dataset will be used to store the ecommerce data you will categorize in this lab.\n",
        "\n",
        "In the Google Cloud console, select the `Navigation menu (Navigation menu icon)`, and then select `BigQuery`.\n",
        "\n",
        "\n",
        "In the Explorer panel, for `<your project ID>` , select View actions (More menu icon), and then select `Create dataset`.\n",
        "\n",
        "In the `Create dataset` pane, enter the following information:\n",
        "\n",
        "\n",
        "| Field |\tValue |\n",
        "|-------|-------|\n",
        "| Dataset ID |\tecommerce |\n",
        "| Location type |\tselect **Multi-Region** |\n",
        "| Multi-region\t| select **US (multiple regions in United States)** |\n",
        "Leave the other fields at their defaults.\n",
        "\n",
        "Click **Create Dataset**."
      ],
      "metadata": {
        "id": "xKnfcErJBcrW"
      }
    },
    {
      "cell_type": "markdown",
      "source": [
        "## **Task 2.** Create a new Python notebook\n",
        "In this task, you create a new Python notebook in BigQuery, so that you may use Gemini in BigQuery. The Python notebook is needed in BigQuery so that you may use Python machine learning libraries to identify customers and categorize them into groups, based upon shopping data in the ecommerce dataset.\n",
        "\n",
        "In the Google Cloud console, select the Navigation menu (Navigation menu icon), and then select **BigQuery**.\n",
        "\n",
        "At the top of the page, click the down arrow next to the plus sign.\n",
        "\n",
        "Select **Python Notebook**.\n",
        "\n",
        "Select the region **us-central1** to store your code assets from the dropdown and click **Select**.\n",
        "\n",
        "In the Start with a template pane, click **Close**.\n",
        "\n",
        "```|--- can also use Google Colab for this project, but need to create a bigquerydataset and enable google relevant apis for accessing directly through colab ---|```"
      ],
      "metadata": {
        "id": "j4rB57PfEFLY"
      }
    },
    {
      "cell_type": "code",
      "source": [
        "#Import Python libraries and define variables\n",
        "\n",
        "from google.cloud import bigquery\n",
        "from google.cloud import aiplatform\n",
        "import bigframes.pandas as bpd\n",
        "import pandas as pd\n",
        "from vertexai.language_models._language_models import TextGenerationModel\n",
        "from bigframes.ml.cluster import KMeans\n",
        "from bigframes.ml.model_selection import train_test_split"
      ],
      "metadata": {
        "id": "srm90Z6A8NAo",
        "executionInfo": {
          "status": "ok",
          "timestamp": 1727854497500,
          "user_tz": -330,
          "elapsed": 688,
          "user": {
            "displayName": "",
            "userId": ""
          }
        }
      },
      "execution_count": 19,
      "outputs": []
    },
    {
      "cell_type": "markdown",
      "source": [
        "\n",
        "##### The table below provides more information about the Python libraries that you just imported to your notebook, including a brief description about each one.\n",
        "\n",
        "| Library |\tDescription |\n",
        "|---------|-------------|\n",
        "| BigQuery\t| Python Client for Google BigQuery |\n",
        "| AI Platform\t| Vertex AI SDK for Python |\n",
        "| bigframes.pandas\t| BigQuery DataFrames |\n",
        "| pandas\t| Open source data analysis and | manipulation tool, built on top of the Python programming language. |\n",
        "| TextGenerationModel\t| Creates a LanguageModel within VertexAI. |\n",
        "| Kmeans | Used to create K-means clustering models within BigQuery DataFrames |\n",
        "| train_test_split\t| Used to split source dataset into test and training subsets, and used with model tuning within BigQuery DataFrames. |"
      ],
      "metadata": {
        "id": "QM_msxkLE8J5"
      }
    },
    {
      "cell_type": "code",
      "source": [
        "project_id = 'qwiklabs-gcp-01-9a28495ad825' #use your own proejct id\n",
        "dataset_name = \"ecommerce\"\n",
        "model_name = \"customer_segmentation_model\"\n",
        "table_name = \"customer_stats\"\n",
        "location = \"us-central1\" #<location needed>\n",
        "client = bigquery.Client(project=project_id)\n",
        "aiplatform.init(project=project_id, location=location)"
      ],
      "metadata": {
        "id": "xsRZHFhQ8R5B",
        "executionInfo": {
          "status": "ok",
          "timestamp": 1727854501796,
          "user_tz": -330,
          "elapsed": 3,
          "user": {
            "displayName": "",
            "userId": ""
          }
        }
      },
      "execution_count": 20,
      "outputs": []
    },
    {
      "cell_type": "code",
      "source": [
        "%%bigquery\n",
        "CREATE OR REPLACE TABLE ecommerce.customer_stats AS\n",
        "SELECT\n",
        "  user_id,\n",
        "  DATE_DIFF(CURRENT_DATE(), CAST(MAX(order_created_date) AS DATE), day) AS days_since_last_order, ---RECENCY\n",
        "  COUNT(order_id) AS count_orders, --FREQUENCY\n",
        "  AVG(sale_price) AS average_spend --MONETARY\n",
        "  FROM (\n",
        "      SELECT\n",
        "        user_id,\n",
        "        order_id,\n",
        "        sale_price,\n",
        "        created_at AS order_created_date\n",
        "        FROM `bigquery-public-data.thelook_ecommerce.order_items`\n",
        "        WHERE\n",
        "        created_at\n",
        "            BETWEEN '2022-01-01' AND '2023-01-01'\n",
        "  )\n",
        "GROUP BY user_id;"
      ],
      "metadata": {
        "colab": {
          "base_uri": "https://localhost:8080/",
          "height": 85,
          "referenced_widgets": [
            "a410b9c0ac1b473793e08f4473355c99",
            "102fc725ca5a4898b7d6a7910d6952a0",
            "15d8178e2307405abf5ea7368a6489d4",
            "eda914b3a1974a1d99747aaa531ea5cc",
            "96534ffd3235441897808acc9b973e6c",
            "829e39a098e04f94b56518fd3507cb28",
            "0bdffbc404244b2eb3df4e7fa19d484b",
            "e047330c5a87436b97d95062efea8b35",
            "6f58e4862c6245ceb6069ed43b63a86d",
            "3acc278f0362450d9dc2d737a4842941",
            "db6e06667add473a9243add6d17d973c"
          ]
        },
        "id": "hbH8f5dr8dap",
        "executionInfo": {
          "status": "ok",
          "timestamp": 1727854506405,
          "user_tz": -330,
          "elapsed": 2258,
          "user": {
            "displayName": "",
            "userId": ""
          }
        },
        "outputId": "9613b7bd-1911-4b34-f9b0-0152670c493b"
      },
      "execution_count": 21,
      "outputs": [
        {
          "output_type": "display_data",
          "data": {
            "text/plain": [
              "Query is running:   0%|          |"
            ],
            "application/vnd.jupyter.widget-view+json": {
              "version_major": 2,
              "version_minor": 0,
              "model_id": "a410b9c0ac1b473793e08f4473355c99"
            }
          },
          "metadata": {}
        },
        {
          "output_type": "execute_result",
          "data": {
            "text/plain": [
              "Empty DataFrame\n",
              "Columns: []\n",
              "Index: []"
            ],
            "text/html": [
              "\n",
              "  <div id=\"df-2661fbe2-dab4-4587-a03b-8624e94c6af6\" class=\"colab-df-container\">\n",
              "    <div>\n",
              "<style scoped>\n",
              "    .dataframe tbody tr th:only-of-type {\n",
              "        vertical-align: middle;\n",
              "    }\n",
              "\n",
              "    .dataframe tbody tr th {\n",
              "        vertical-align: top;\n",
              "    }\n",
              "\n",
              "    .dataframe thead th {\n",
              "        text-align: right;\n",
              "    }\n",
              "</style>\n",
              "<table border=\"1\" class=\"dataframe\">\n",
              "  <thead>\n",
              "    <tr style=\"text-align: right;\">\n",
              "      <th></th>\n",
              "    </tr>\n",
              "  </thead>\n",
              "  <tbody>\n",
              "  </tbody>\n",
              "</table>\n",
              "</div>\n",
              "    <div class=\"colab-df-buttons\">\n",
              "\n",
              "  <div class=\"colab-df-container\">\n",
              "    <button class=\"colab-df-convert\" onclick=\"convertToInteractive('df-2661fbe2-dab4-4587-a03b-8624e94c6af6')\"\n",
              "            title=\"Convert this dataframe to an interactive table.\"\n",
              "            style=\"display:none;\">\n",
              "\n",
              "  <svg xmlns=\"http://www.w3.org/2000/svg\" height=\"24px\" viewBox=\"0 -960 960 960\">\n",
              "    <path d=\"M120-120v-720h720v720H120Zm60-500h600v-160H180v160Zm220 220h160v-160H400v160Zm0 220h160v-160H400v160ZM180-400h160v-160H180v160Zm440 0h160v-160H620v160ZM180-180h160v-160H180v160Zm440 0h160v-160H620v160Z\"/>\n",
              "  </svg>\n",
              "    </button>\n",
              "\n",
              "  <style>\n",
              "    .colab-df-container {\n",
              "      display:flex;\n",
              "      gap: 12px;\n",
              "    }\n",
              "\n",
              "    .colab-df-convert {\n",
              "      background-color: #E8F0FE;\n",
              "      border: none;\n",
              "      border-radius: 50%;\n",
              "      cursor: pointer;\n",
              "      display: none;\n",
              "      fill: #1967D2;\n",
              "      height: 32px;\n",
              "      padding: 0 0 0 0;\n",
              "      width: 32px;\n",
              "    }\n",
              "\n",
              "    .colab-df-convert:hover {\n",
              "      background-color: #E2EBFA;\n",
              "      box-shadow: 0px 1px 2px rgba(60, 64, 67, 0.3), 0px 1px 3px 1px rgba(60, 64, 67, 0.15);\n",
              "      fill: #174EA6;\n",
              "    }\n",
              "\n",
              "    .colab-df-buttons div {\n",
              "      margin-bottom: 4px;\n",
              "    }\n",
              "\n",
              "    [theme=dark] .colab-df-convert {\n",
              "      background-color: #3B4455;\n",
              "      fill: #D2E3FC;\n",
              "    }\n",
              "\n",
              "    [theme=dark] .colab-df-convert:hover {\n",
              "      background-color: #434B5C;\n",
              "      box-shadow: 0px 1px 3px 1px rgba(0, 0, 0, 0.15);\n",
              "      filter: drop-shadow(0px 1px 2px rgba(0, 0, 0, 0.3));\n",
              "      fill: #FFFFFF;\n",
              "    }\n",
              "  </style>\n",
              "\n",
              "    <script>\n",
              "      const buttonEl =\n",
              "        document.querySelector('#df-2661fbe2-dab4-4587-a03b-8624e94c6af6 button.colab-df-convert');\n",
              "      buttonEl.style.display =\n",
              "        google.colab.kernel.accessAllowed ? 'block' : 'none';\n",
              "\n",
              "      async function convertToInteractive(key) {\n",
              "        const element = document.querySelector('#df-2661fbe2-dab4-4587-a03b-8624e94c6af6');\n",
              "        const dataTable =\n",
              "          await google.colab.kernel.invokeFunction('convertToInteractive',\n",
              "                                                    [key], {});\n",
              "        if (!dataTable) return;\n",
              "\n",
              "        const docLinkHtml = 'Like what you see? Visit the ' +\n",
              "          '<a target=\"_blank\" href=https://colab.research.google.com/notebooks/data_table.ipynb>data table notebook</a>'\n",
              "          + ' to learn more about interactive tables.';\n",
              "        element.innerHTML = '';\n",
              "        dataTable['output_type'] = 'display_data';\n",
              "        await google.colab.output.renderOutput(dataTable, element);\n",
              "        const docLink = document.createElement('div');\n",
              "        docLink.innerHTML = docLinkHtml;\n",
              "        element.appendChild(docLink);\n",
              "      }\n",
              "    </script>\n",
              "  </div>\n",
              "\n",
              "    </div>\n",
              "  </div>\n"
            ]
          },
          "metadata": {},
          "execution_count": 21
        }
      ]
    },
    {
      "cell_type": "code",
      "source": [
        "bqdf = bpd.read_gbq(f\"{project_id}.{dataset_name}.{table_name}\")\n",
        "bqdf.head(10)"
      ],
      "metadata": {
        "colab": {
          "base_uri": "https://localhost:8080/",
          "height": 534
        },
        "id": "2DVZZobW8oxK",
        "executionInfo": {
          "status": "ok",
          "timestamp": 1727854517193,
          "user_tz": -330,
          "elapsed": 6188,
          "user": {
            "displayName": "",
            "userId": ""
          }
        },
        "outputId": "33e49036-7043-4b53-f399-bbb75099afce"
      },
      "execution_count": 22,
      "outputs": [
        {
          "output_type": "stream",
          "name": "stderr",
          "text": [
            "/usr/local/lib/python3.10/dist-packages/IPython/core/interactiveshell.py:3553: UserWarning: Reading cached table from 2024-10-02 06:37:26.052142+00:00 to avoid incompatibilies with previous reads of this table. To read the latest version, set `use_cache=False` or close the current session with Session.close() or bigframes.pandas.close_session().\n",
            "  exec(code_obj, self.user_global_ns, self.user_ns)\n",
            "/usr/local/lib/python3.10/dist-packages/bigframes/session/_io/bigquery/read_gbq_table.py:140: TimeTravelDisabledWarning: NotFound error when reading table with time travel. Attempting query without time travel. Warning: Without time travel, modifications to the underlying table may result in errors or unexpected behavior.\n",
            "  warnings.warn(\n"
          ]
        },
        {
          "output_type": "display_data",
          "data": {
            "text/plain": [
              "<IPython.core.display.HTML object>"
            ],
            "text/html": [
              "Query job b7e3d45f-d3b4-45f8-baee-5f97bd8c3bda is DONE. 561.1 kB processed. <a target=\"_blank\" href=\"https://console.cloud.google.com/bigquery?project=qwiklabs-gcp-01-9a28495ad825&j=bq:US:b7e3d45f-d3b4-45f8-baee-5f97bd8c3bda&page=queryresults\">Open Job</a>"
            ]
          },
          "metadata": {}
        },
        {
          "output_type": "display_data",
          "data": {
            "text/plain": [
              "<IPython.core.display.HTML object>"
            ],
            "text/html": [
              "Query job 957aaf64-5dcb-4897-8f27-cbdf01d648e9 is DONE. 640 Bytes processed. <a target=\"_blank\" href=\"https://console.cloud.google.com/bigquery?project=qwiklabs-gcp-01-9a28495ad825&j=bq:US:957aaf64-5dcb-4897-8f27-cbdf01d648e9&page=queryresults\">Open Job</a>"
            ]
          },
          "metadata": {}
        },
        {
          "output_type": "execute_result",
          "data": {
            "text/plain": [
              "   user_id  days_since_last_order  count_orders  average_spend\n",
              "0    67253                    795             1           75.0\n",
              "1    23179                    841             1           42.0\n",
              "2    65298                    767             1          225.0\n",
              "3    10115                    706             3      65.833333\n",
              "4    55165                    940             2         54.975\n",
              "5    55850                    830             4        46.6725\n",
              "6    32212                   1003             1           14.0\n",
              "7    70961                    886             1           49.5\n",
              "8    69722                    967             4      43.084999\n",
              "9    64705                    668             1           54.0\n",
              "\n",
              "[10 rows x 4 columns]"
            ],
            "text/html": [
              "<div>\n",
              "<style scoped>\n",
              "    .dataframe tbody tr th:only-of-type {\n",
              "        vertical-align: middle;\n",
              "    }\n",
              "\n",
              "    .dataframe tbody tr th {\n",
              "        vertical-align: top;\n",
              "    }\n",
              "\n",
              "    .dataframe thead th {\n",
              "        text-align: right;\n",
              "    }\n",
              "</style>\n",
              "<table border=\"1\" class=\"dataframe\">\n",
              "  <thead>\n",
              "    <tr style=\"text-align: right;\">\n",
              "      <th></th>\n",
              "      <th>user_id</th>\n",
              "      <th>days_since_last_order</th>\n",
              "      <th>count_orders</th>\n",
              "      <th>average_spend</th>\n",
              "    </tr>\n",
              "  </thead>\n",
              "  <tbody>\n",
              "    <tr>\n",
              "      <th>0</th>\n",
              "      <td>67253</td>\n",
              "      <td>795</td>\n",
              "      <td>1</td>\n",
              "      <td>75.0</td>\n",
              "    </tr>\n",
              "    <tr>\n",
              "      <th>1</th>\n",
              "      <td>23179</td>\n",
              "      <td>841</td>\n",
              "      <td>1</td>\n",
              "      <td>42.0</td>\n",
              "    </tr>\n",
              "    <tr>\n",
              "      <th>2</th>\n",
              "      <td>65298</td>\n",
              "      <td>767</td>\n",
              "      <td>1</td>\n",
              "      <td>225.0</td>\n",
              "    </tr>\n",
              "    <tr>\n",
              "      <th>3</th>\n",
              "      <td>10115</td>\n",
              "      <td>706</td>\n",
              "      <td>3</td>\n",
              "      <td>65.833333</td>\n",
              "    </tr>\n",
              "    <tr>\n",
              "      <th>4</th>\n",
              "      <td>55165</td>\n",
              "      <td>940</td>\n",
              "      <td>2</td>\n",
              "      <td>54.975</td>\n",
              "    </tr>\n",
              "    <tr>\n",
              "      <th>5</th>\n",
              "      <td>55850</td>\n",
              "      <td>830</td>\n",
              "      <td>4</td>\n",
              "      <td>46.6725</td>\n",
              "    </tr>\n",
              "    <tr>\n",
              "      <th>6</th>\n",
              "      <td>32212</td>\n",
              "      <td>1003</td>\n",
              "      <td>1</td>\n",
              "      <td>14.0</td>\n",
              "    </tr>\n",
              "    <tr>\n",
              "      <th>7</th>\n",
              "      <td>70961</td>\n",
              "      <td>886</td>\n",
              "      <td>1</td>\n",
              "      <td>49.5</td>\n",
              "    </tr>\n",
              "    <tr>\n",
              "      <th>8</th>\n",
              "      <td>69722</td>\n",
              "      <td>967</td>\n",
              "      <td>4</td>\n",
              "      <td>43.084999</td>\n",
              "    </tr>\n",
              "    <tr>\n",
              "      <th>9</th>\n",
              "      <td>64705</td>\n",
              "      <td>668</td>\n",
              "      <td>1</td>\n",
              "      <td>54.0</td>\n",
              "    </tr>\n",
              "  </tbody>\n",
              "</table>\n",
              "<p>10 rows × 4 columns</p>\n",
              "</div>[10 rows x 4 columns in total]"
            ]
          },
          "metadata": {},
          "execution_count": 22
        }
      ]
    },
    {
      "cell_type": "code",
      "source": [
        "# prompt: 1. Split df (using random state and test size 0.2) into test and training data for a K-means clustering algorithm store these as df_test and df_train. 2. Create a K-means cluster model using bigframes.ml.cluster KMeans with 5 clusters. 3. Save the model using the to_gbq method where the model name is project_id.dataset_name.model_name.\n",
        "\n",
        "df_train, df_test = train_test_split(bqdf, test_size=0.2, random_state=42)\n",
        "kmeans = KMeans(n_clusters=5)\n",
        "model = kmeans.fit(df_train)\n",
        "model.to_gbq(f\"{project_id}.{dataset_name}.{model_name}\")"
      ],
      "metadata": {
        "colab": {
          "base_uri": "https://localhost:8080/",
          "height": 86
        },
        "id": "002Mz7d781Ua",
        "executionInfo": {
          "status": "ok",
          "timestamp": 1727854596689,
          "user_tz": -330,
          "elapsed": 74865,
          "user": {
            "displayName": "",
            "userId": ""
          }
        },
        "outputId": "3b13a50c-1839-4fb4-c599-2621ae4c269e"
      },
      "execution_count": 23,
      "outputs": [
        {
          "output_type": "display_data",
          "data": {
            "text/plain": [
              "<IPython.core.display.HTML object>"
            ],
            "text/html": [
              "Query job 395a041f-239e-403b-a12b-cbbbdc37a422 is DONE. 561.1 kB processed. <a target=\"_blank\" href=\"https://console.cloud.google.com/bigquery?project=qwiklabs-gcp-01-9a28495ad825&j=bq:US:395a041f-239e-403b-a12b-cbbbdc37a422&page=queryresults\">Open Job</a>"
            ]
          },
          "metadata": {}
        },
        {
          "output_type": "display_data",
          "data": {
            "text/plain": [
              "<IPython.core.display.HTML object>"
            ],
            "text/html": [
              "Query job 1dcd0996-de84-471b-893e-3fdf73c0a6b6 is DONE. 448.9 kB processed. <a target=\"_blank\" href=\"https://console.cloud.google.com/bigquery?project=qwiklabs-gcp-01-9a28495ad825&j=bq:US:1dcd0996-de84-471b-893e-3fdf73c0a6b6&page=queryresults\">Open Job</a>"
            ]
          },
          "metadata": {}
        },
        {
          "output_type": "display_data",
          "data": {
            "text/plain": [
              "<IPython.core.display.HTML object>"
            ],
            "text/html": [
              "Copy job d77a550c-950b-4953-993b-d55c13c005f8 is DONE. <a target=\"_blank\" href=\"https://console.cloud.google.com/bigquery?project=qwiklabs-gcp-01-9a28495ad825&j=bq:US:d77a550c-950b-4953-993b-d55c13c005f8&page=queryresults\">Open Job</a>"
            ]
          },
          "metadata": {}
        },
        {
          "output_type": "execute_result",
          "data": {
            "text/plain": [
              "KMeans(distance_type='EUCLIDEAN', init='KMEANS_PLUS_PLUS', n_clusters=5)"
            ]
          },
          "metadata": {},
          "execution_count": 23
        }
      ]
    },
    {
      "cell_type": "code",
      "source": [
        "# prompt: 1. Call the K-means prediction model on the df dataframe, and store the results as predictions_df and show the first 10 records.\n",
        "\n",
        "predictions_df = kmeans.predict(df_test)\n",
        "predictions_df.head(10)"
      ],
      "metadata": {
        "colab": {
          "base_uri": "https://localhost:8080/",
          "height": 462
        },
        "id": "qxzhkHVe9Ycz",
        "executionInfo": {
          "status": "ok",
          "timestamp": 1727854610744,
          "user_tz": -330,
          "elapsed": 10789,
          "user": {
            "displayName": "",
            "userId": ""
          }
        },
        "outputId": "1f79795c-b63a-4dd7-b413-7609a46c8d58"
      },
      "execution_count": 24,
      "outputs": [
        {
          "output_type": "display_data",
          "data": {
            "text/plain": [
              "<IPython.core.display.HTML object>"
            ],
            "text/html": [
              "Query job 2f55122b-8b8a-44a6-afa1-001826760977 is DONE. 561.4 kB processed. <a target=\"_blank\" href=\"https://console.cloud.google.com/bigquery?project=qwiklabs-gcp-01-9a28495ad825&j=bq:US:2f55122b-8b8a-44a6-afa1-001826760977&page=queryresults\">Open Job</a>"
            ]
          },
          "metadata": {}
        },
        {
          "output_type": "display_data",
          "data": {
            "text/plain": [
              "<IPython.core.display.HTML object>"
            ],
            "text/html": [
              "Query job 0f21013f-13f3-459d-80e9-b71c8e612ede is DONE. 448.9 kB processed. <a target=\"_blank\" href=\"https://console.cloud.google.com/bigquery?project=qwiklabs-gcp-01-9a28495ad825&j=bq:US:0f21013f-13f3-459d-80e9-b71c8e612ede&page=queryresults\">Open Job</a>"
            ]
          },
          "metadata": {}
        },
        {
          "output_type": "display_data",
          "data": {
            "text/plain": [
              "<IPython.core.display.HTML object>"
            ],
            "text/html": [
              "Query job f4a40103-b7ed-41a5-a38a-7fa045e8cd5e is DONE. 1.4 kB processed. <a target=\"_blank\" href=\"https://console.cloud.google.com/bigquery?project=qwiklabs-gcp-01-9a28495ad825&j=bq:US:f4a40103-b7ed-41a5-a38a-7fa045e8cd5e&page=queryresults\">Open Job</a>"
            ]
          },
          "metadata": {}
        },
        {
          "output_type": "execute_result",
          "data": {
            "text/plain": [
              "    CENTROID_ID                         NEAREST_CENTROIDS_DISTANCE  user_id  \\\n",
              "3             4  [{'CENTROID_ID': 4, 'DISTANCE': 1.670205328090...    10115   \n",
              "10            3  [{'CENTROID_ID': 3, 'DISTANCE': 2.400065433662...     5591   \n",
              "23            5  [{'CENTROID_ID': 5, 'DISTANCE': 1.526923661136...    81604   \n",
              "24            5  [{'CENTROID_ID': 5, 'DISTANCE': 1.785114278111...    86643   \n",
              "27            1  [{'CENTROID_ID': 1, 'DISTANCE': 0.920726823474...    48440   \n",
              "30            4  [{'CENTROID_ID': 4, 'DISTANCE': 1.289167154298...    44186   \n",
              "31            1  [{'CENTROID_ID': 1, 'DISTANCE': 1.774808509849...    12428   \n",
              "50            5  [{'CENTROID_ID': 5, 'DISTANCE': 1.533787090687...    77784   \n",
              "56            1  [{'CENTROID_ID': 1, 'DISTANCE': 1.260857506316...    29052   \n",
              "57            1  [{'CENTROID_ID': 1, 'DISTANCE': 1.339436194872...    79520   \n",
              "\n",
              "    days_since_last_order  count_orders  average_spend  \n",
              "3                     706             3      65.833333  \n",
              "10                    916             1     276.320007  \n",
              "23                    726             1           70.0  \n",
              "24                    651             1      42.990002  \n",
              "27                    860             2      62.494999  \n",
              "30                    666             3          46.25  \n",
              "31                    886             1           12.0  \n",
              "50                    682             2         41.805  \n",
              "56                    847             1          17.84  \n",
              "57                    970             2         17.995  \n",
              "\n",
              "[10 rows x 6 columns]"
            ],
            "text/html": [
              "<div>\n",
              "<style scoped>\n",
              "    .dataframe tbody tr th:only-of-type {\n",
              "        vertical-align: middle;\n",
              "    }\n",
              "\n",
              "    .dataframe tbody tr th {\n",
              "        vertical-align: top;\n",
              "    }\n",
              "\n",
              "    .dataframe thead th {\n",
              "        text-align: right;\n",
              "    }\n",
              "</style>\n",
              "<table border=\"1\" class=\"dataframe\">\n",
              "  <thead>\n",
              "    <tr style=\"text-align: right;\">\n",
              "      <th></th>\n",
              "      <th>CENTROID_ID</th>\n",
              "      <th>NEAREST_CENTROIDS_DISTANCE</th>\n",
              "      <th>user_id</th>\n",
              "      <th>days_since_last_order</th>\n",
              "      <th>count_orders</th>\n",
              "      <th>average_spend</th>\n",
              "    </tr>\n",
              "  </thead>\n",
              "  <tbody>\n",
              "    <tr>\n",
              "      <th>3</th>\n",
              "      <td>4</td>\n",
              "      <td>[{'CENTROID_ID': 4, 'DISTANCE': 1.670205328090...</td>\n",
              "      <td>10115</td>\n",
              "      <td>706</td>\n",
              "      <td>3</td>\n",
              "      <td>65.833333</td>\n",
              "    </tr>\n",
              "    <tr>\n",
              "      <th>10</th>\n",
              "      <td>3</td>\n",
              "      <td>[{'CENTROID_ID': 3, 'DISTANCE': 2.400065433662...</td>\n",
              "      <td>5591</td>\n",
              "      <td>916</td>\n",
              "      <td>1</td>\n",
              "      <td>276.320007</td>\n",
              "    </tr>\n",
              "    <tr>\n",
              "      <th>23</th>\n",
              "      <td>5</td>\n",
              "      <td>[{'CENTROID_ID': 5, 'DISTANCE': 1.526923661136...</td>\n",
              "      <td>81604</td>\n",
              "      <td>726</td>\n",
              "      <td>1</td>\n",
              "      <td>70.0</td>\n",
              "    </tr>\n",
              "    <tr>\n",
              "      <th>24</th>\n",
              "      <td>5</td>\n",
              "      <td>[{'CENTROID_ID': 5, 'DISTANCE': 1.785114278111...</td>\n",
              "      <td>86643</td>\n",
              "      <td>651</td>\n",
              "      <td>1</td>\n",
              "      <td>42.990002</td>\n",
              "    </tr>\n",
              "    <tr>\n",
              "      <th>27</th>\n",
              "      <td>1</td>\n",
              "      <td>[{'CENTROID_ID': 1, 'DISTANCE': 0.920726823474...</td>\n",
              "      <td>48440</td>\n",
              "      <td>860</td>\n",
              "      <td>2</td>\n",
              "      <td>62.494999</td>\n",
              "    </tr>\n",
              "    <tr>\n",
              "      <th>30</th>\n",
              "      <td>4</td>\n",
              "      <td>[{'CENTROID_ID': 4, 'DISTANCE': 1.289167154298...</td>\n",
              "      <td>44186</td>\n",
              "      <td>666</td>\n",
              "      <td>3</td>\n",
              "      <td>46.25</td>\n",
              "    </tr>\n",
              "    <tr>\n",
              "      <th>31</th>\n",
              "      <td>1</td>\n",
              "      <td>[{'CENTROID_ID': 1, 'DISTANCE': 1.774808509849...</td>\n",
              "      <td>12428</td>\n",
              "      <td>886</td>\n",
              "      <td>1</td>\n",
              "      <td>12.0</td>\n",
              "    </tr>\n",
              "    <tr>\n",
              "      <th>50</th>\n",
              "      <td>5</td>\n",
              "      <td>[{'CENTROID_ID': 5, 'DISTANCE': 1.533787090687...</td>\n",
              "      <td>77784</td>\n",
              "      <td>682</td>\n",
              "      <td>2</td>\n",
              "      <td>41.805</td>\n",
              "    </tr>\n",
              "    <tr>\n",
              "      <th>56</th>\n",
              "      <td>1</td>\n",
              "      <td>[{'CENTROID_ID': 1, 'DISTANCE': 1.260857506316...</td>\n",
              "      <td>29052</td>\n",
              "      <td>847</td>\n",
              "      <td>1</td>\n",
              "      <td>17.84</td>\n",
              "    </tr>\n",
              "    <tr>\n",
              "      <th>57</th>\n",
              "      <td>1</td>\n",
              "      <td>[{'CENTROID_ID': 1, 'DISTANCE': 1.339436194872...</td>\n",
              "      <td>79520</td>\n",
              "      <td>970</td>\n",
              "      <td>2</td>\n",
              "      <td>17.995</td>\n",
              "    </tr>\n",
              "  </tbody>\n",
              "</table>\n",
              "<p>10 rows × 6 columns</p>\n",
              "</div>[10 rows x 6 columns in total]"
            ]
          },
          "metadata": {},
          "execution_count": 24
        }
      ]
    },
    {
      "cell_type": "code",
      "source": [
        "# prompt: 1. Using predictions_df, and matplotlib, generate a scatterplot. 2. On the x-axis of the scatterplot, display days_since_last_order and on the y-axis, display average_spend from predictions_df. 3. Color by cluster. 4. The chart should be titled \"Attribute grouped by K-means cluster.\"\n",
        "\n",
        "import matplotlib.pyplot as plt\n",
        "\n",
        "# Create the scatter plot\n",
        "plt.figure(figsize=(10, 6))\n",
        "plt.scatter(predictions_df['days_since_last_order'], predictions_df['average_spend'], c=predictions_df['CENTROID_ID'], cmap='viridis')\n",
        "\n",
        "# Add labels and title\n",
        "plt.xlabel('Days Since Last Order')\n",
        "plt.ylabel('Average Spend')\n",
        "plt.title('Attribute grouped by K-means cluster')\n",
        "\n",
        "# Show the plot\n",
        "plt.show()"
      ],
      "metadata": {
        "colab": {
          "base_uri": "https://localhost:8080/",
          "height": 703
        },
        "id": "cRcSceX998wU",
        "executionInfo": {
          "status": "ok",
          "timestamp": 1727854636080,
          "user_tz": -330,
          "elapsed": 19529,
          "user": {
            "displayName": "",
            "userId": ""
          }
        },
        "outputId": "46838fd6-249a-4915-9579-78ef905bb342"
      },
      "execution_count": 25,
      "outputs": [
        {
          "output_type": "display_data",
          "data": {
            "text/plain": [
              "<IPython.core.display.HTML object>"
            ],
            "text/html": [
              "Query job 4ffa1008-afb8-4058-881f-a4c607f6ce32 is DONE. 56.1 kB processed. <a target=\"_blank\" href=\"https://console.cloud.google.com/bigquery?project=qwiklabs-gcp-01-9a28495ad825&j=bq:US:4ffa1008-afb8-4058-881f-a4c607f6ce32&page=queryresults\">Open Job</a>"
            ]
          },
          "metadata": {}
        },
        {
          "output_type": "display_data",
          "data": {
            "text/plain": [
              "<IPython.core.display.HTML object>"
            ],
            "text/html": [
              "Query job f6942119-54b3-4b69-9aa7-cd2924869cf2 is DONE. 56.1 kB processed. <a target=\"_blank\" href=\"https://console.cloud.google.com/bigquery?project=qwiklabs-gcp-01-9a28495ad825&j=bq:US:f6942119-54b3-4b69-9aa7-cd2924869cf2&page=queryresults\">Open Job</a>"
            ]
          },
          "metadata": {}
        },
        {
          "output_type": "display_data",
          "data": {
            "text/plain": [
              "<IPython.core.display.HTML object>"
            ],
            "text/html": [
              "Query job de0e2736-f6a6-45c5-8d84-ce9be1700ca3 is DONE. 56.1 kB processed. <a target=\"_blank\" href=\"https://console.cloud.google.com/bigquery?project=qwiklabs-gcp-01-9a28495ad825&j=bq:US:de0e2736-f6a6-45c5-8d84-ce9be1700ca3&page=queryresults\">Open Job</a>"
            ]
          },
          "metadata": {}
        },
        {
          "output_type": "display_data",
          "data": {
            "text/plain": [
              "<IPython.core.display.HTML object>"
            ],
            "text/html": [
              "Query job e85a53af-6d8c-4866-809b-7ae6f4e34f7e is DONE. 56.1 kB processed. <a target=\"_blank\" href=\"https://console.cloud.google.com/bigquery?project=qwiklabs-gcp-01-9a28495ad825&j=bq:US:e85a53af-6d8c-4866-809b-7ae6f4e34f7e&page=queryresults\">Open Job</a>"
            ]
          },
          "metadata": {}
        },
        {
          "output_type": "display_data",
          "data": {
            "text/plain": [
              "<IPython.core.display.HTML object>"
            ],
            "text/html": [
              "Query job 9bcc7c20-b344-4620-8135-97f7c4bb346a is DONE. 0 Bytes processed. <a target=\"_blank\" href=\"https://console.cloud.google.com/bigquery?project=qwiklabs-gcp-01-9a28495ad825&j=bq:US:9bcc7c20-b344-4620-8135-97f7c4bb346a&page=queryresults\">Open Job</a>"
            ]
          },
          "metadata": {}
        },
        {
          "output_type": "display_data",
          "data": {
            "text/plain": [
              "<IPython.core.display.HTML object>"
            ],
            "text/html": [
              "Query job 1d5e2c1b-ec75-45fd-9e3d-9982a8c99ac1 is DONE. 0 Bytes processed. <a target=\"_blank\" href=\"https://console.cloud.google.com/bigquery?project=qwiklabs-gcp-01-9a28495ad825&j=bq:US:1d5e2c1b-ec75-45fd-9e3d-9982a8c99ac1&page=queryresults\">Open Job</a>"
            ]
          },
          "metadata": {}
        },
        {
          "output_type": "display_data",
          "data": {
            "text/plain": [
              "<IPython.core.display.HTML object>"
            ],
            "text/html": [
              "Query job 5b38d563-6c03-401e-8885-d34b4c504719 is DONE. 56.1 kB processed. <a target=\"_blank\" href=\"https://console.cloud.google.com/bigquery?project=qwiklabs-gcp-01-9a28495ad825&j=bq:US:5b38d563-6c03-401e-8885-d34b4c504719&page=queryresults\">Open Job</a>"
            ]
          },
          "metadata": {}
        },
        {
          "output_type": "display_data",
          "data": {
            "text/plain": [
              "<IPython.core.display.HTML object>"
            ],
            "text/html": [
              "Query job a4c3bf2d-0014-4f4d-a7d4-4941842cdc4f is DONE. 56.1 kB processed. <a target=\"_blank\" href=\"https://console.cloud.google.com/bigquery?project=qwiklabs-gcp-01-9a28495ad825&j=bq:US:a4c3bf2d-0014-4f4d-a7d4-4941842cdc4f&page=queryresults\">Open Job</a>"
            ]
          },
          "metadata": {}
        },
        {
          "output_type": "display_data",
          "data": {
            "text/plain": [
              "<Figure size 1000x600 with 1 Axes>"
            ],
            "image/png": "[encoded data removed]"
          },
          "metadata": {}
        }
      ]
    },
    {
      "cell_type": "code",
      "source": [
        "query = \"\"\"\n",
        "SELECT\n",
        " CONCAT('cluster ', CAST(centroid_id as STRING)) as centroid,\n",
        " average_spend,\n",
        " count_orders,\n",
        " days_since_last_order\n",
        "FROM (\n",
        " SELECT centroid_id, feature, ROUND(numerical_value, 2) as value\n",
        " FROM ML.CENTROIDS(MODEL `{0}.{1}`)\n",
        ")\n",
        "PIVOT (\n",
        " SUM(value)\n",
        " FOR feature IN ('average_spend',  'count_orders', 'days_since_last_order')\n",
        ")\n",
        "ORDER BY centroid_id\n",
        "\"\"\".format(dataset_name, model_name)\n",
        "\n",
        "df_centroid = client.query(query).to_dataframe()\n",
        "df_centroid.head()"
      ],
      "metadata": {
        "colab": {
          "base_uri": "https://localhost:8080/",
          "height": 206
        },
        "id": "u68YTQSn_f2a",
        "executionInfo": {
          "status": "ok",
          "timestamp": 1727854641890,
          "user_tz": -330,
          "elapsed": 2270,
          "user": {
            "displayName": "",
            "userId": ""
          }
        },
        "outputId": "a42e178c-bed2-43d7-ae3c-0a5de62583d6"
      },
      "execution_count": 26,
      "outputs": [
        {
          "output_type": "execute_result",
          "data": {
            "text/plain": [
              "    centroid  average_spend  count_orders  days_since_last_order\n",
              "0  cluster 1          43.46          1.28                 885.04\n",
              "1  cluster 2         671.90          1.28                 781.58\n",
              "2  cluster 3         183.09          1.25                 811.64\n",
              "3  cluster 4          58.01          3.70                 776.47\n",
              "4  cluster 5          45.57          1.30                 723.95"
            ],
            "text/html": [
              "\n",
              "  <div id=\"df-73dd7e27-184d-48db-87fe-e68d3cc5f182\" class=\"colab-df-container\">\n",
              "    <div>\n",
              "<style scoped>\n",
              "    .dataframe tbody tr th:only-of-type {\n",
              "        vertical-align: middle;\n",
              "    }\n",
              "\n",
              "    .dataframe tbody tr th {\n",
              "        vertical-align: top;\n",
              "    }\n",
              "\n",
              "    .dataframe thead th {\n",
              "        text-align: right;\n",
              "    }\n",
              "</style>\n",
              "<table border=\"1\" class=\"dataframe\">\n",
              "  <thead>\n",
              "    <tr style=\"text-align: right;\">\n",
              "      <th></th>\n",
              "      <th>centroid</th>\n",
              "      <th>average_spend</th>\n",
              "      <th>count_orders</th>\n",
              "      <th>days_since_last_order</th>\n",
              "    </tr>\n",
              "  </thead>\n",
              "  <tbody>\n",
              "    <tr>\n",
              "      <th>0</th>\n",
              "      <td>cluster 1</td>\n",
              "      <td>43.46</td>\n",
              "      <td>1.28</td>\n",
              "      <td>885.04</td>\n",
              "    </tr>\n",
              "    <tr>\n",
              "      <th>1</th>\n",
              "      <td>cluster 2</td>\n",
              "      <td>671.90</td>\n",
              "      <td>1.28</td>\n",
              "      <td>781.58</td>\n",
              "    </tr>\n",
              "    <tr>\n",
              "      <th>2</th>\n",
              "      <td>cluster 3</td>\n",
              "      <td>183.09</td>\n",
              "      <td>1.25</td>\n",
              "      <td>811.64</td>\n",
              "    </tr>\n",
              "    <tr>\n",
              "      <th>3</th>\n",
              "      <td>cluster 4</td>\n",
              "      <td>58.01</td>\n",
              "      <td>3.70</td>\n",
              "      <td>776.47</td>\n",
              "    </tr>\n",
              "    <tr>\n",
              "      <th>4</th>\n",
              "      <td>cluster 5</td>\n",
              "      <td>45.57</td>\n",
              "      <td>1.30</td>\n",
              "      <td>723.95</td>\n",
              "    </tr>\n",
              "  </tbody>\n",
              "</table>\n",
              "</div>\n",
              "    <div class=\"colab-df-buttons\">\n",
              "\n",
              "  <div class=\"colab-df-container\">\n",
              "    <button class=\"colab-df-convert\" onclick=\"convertToInteractive('df-73dd7e27-184d-48db-87fe-e68d3cc5f182')\"\n",
              "            title=\"Convert this dataframe to an interactive table.\"\n",
              "            style=\"display:none;\">\n",
              "\n",
              "  <svg xmlns=\"http://www.w3.org/2000/svg\" height=\"24px\" viewBox=\"0 -960 960 960\">\n",
              "    <path d=\"M120-120v-720h720v720H120Zm60-500h600v-160H180v160Zm220 220h160v-160H400v160Zm0 220h160v-160H400v160ZM180-400h160v-160H180v160Zm440 0h160v-160H620v160ZM180-180h160v-160H180v160Zm440 0h160v-160H620v160Z\"/>\n",
              "  </svg>\n",
              "    </button>\n",
              "\n",
              "  <style>\n",
              "    .colab-df-container {\n",
              "      display:flex;\n",
              "      gap: 12px;\n",
              "    }\n",
              "\n",
              "    .colab-df-convert {\n",
              "      background-color: #E8F0FE;\n",
              "      border: none;\n",
              "      border-radius: 50%;\n",
              "      cursor: pointer;\n",
              "      display: none;\n",
              "      fill: #1967D2;\n",
              "      height: 32px;\n",
              "      padding: 0 0 0 0;\n",
              "      width: 32px;\n",
              "    }\n",
              "\n",
              "    .colab-df-convert:hover {\n",
              "      background-color: #E2EBFA;\n",
              "      box-shadow: 0px 1px 2px rgba(60, 64, 67, 0.3), 0px 1px 3px 1px rgba(60, 64, 67, 0.15);\n",
              "      fill: #174EA6;\n",
              "    }\n",
              "\n",
              "    .colab-df-buttons div {\n",
              "      margin-bottom: 4px;\n",
              "    }\n",
              "\n",
              "    [theme=dark] .colab-df-convert {\n",
              "      background-color: #3B4455;\n",
              "      fill: #D2E3FC;\n",
              "    }\n",
              "\n",
              "    [theme=dark] .colab-df-convert:hover {\n",
              "      background-color: #434B5C;\n",
              "      box-shadow: 0px 1px 3px 1px rgba(0, 0, 0, 0.15);\n",
              "      filter: drop-shadow(0px 1px 2px rgba(0, 0, 0, 0.3));\n",
              "      fill: #FFFFFF;\n",
              "    }\n",
              "  </style>\n",
              "\n",
              "    <script>\n",
              "      const buttonEl =\n",
              "        document.querySelector('#df-73dd7e27-184d-48db-87fe-e68d3cc5f182 button.colab-df-convert');\n",
              "      buttonEl.style.display =\n",
              "        google.colab.kernel.accessAllowed ? 'block' : 'none';\n",
              "\n",
              "      async function convertToInteractive(key) {\n",
              "        const element = document.querySelector('#df-73dd7e27-184d-48db-87fe-e68d3cc5f182');\n",
              "        const dataTable =\n",
              "          await google.colab.kernel.invokeFunction('convertToInteractive',\n",
              "                                                    [key], {});\n",
              "        if (!dataTable) return;\n",
              "\n",
              "        const docLinkHtml = 'Like what you see? Visit the ' +\n",
              "          '<a target=\"_blank\" href=https://colab.research.google.com/notebooks/data_table.ipynb>data table notebook</a>'\n",
              "          + ' to learn more about interactive tables.';\n",
              "        element.innerHTML = '';\n",
              "        dataTable['output_type'] = 'display_data';\n",
              "        await google.colab.output.renderOutput(dataTable, element);\n",
              "        const docLink = document.createElement('div');\n",
              "        docLink.innerHTML = docLinkHtml;\n",
              "        element.appendChild(docLink);\n",
              "      }\n",
              "    </script>\n",
              "  </div>\n",
              "\n",
              "\n",
              "<div id=\"df-075d61cf-3098-48dc-87b5-995a5a23f9ce\">\n",
              "  <button class=\"colab-df-quickchart\" onclick=\"quickchart('df-075d61cf-3098-48dc-87b5-995a5a23f9ce')\"\n",
              "            title=\"Suggest charts\"\n",
              "            style=\"display:none;\">\n",
              "\n",
              "<svg xmlns=\"http://www.w3.org/2000/svg\" height=\"24px\"viewBox=\"0 0 24 24\"\n",
              "     width=\"24px\">\n",
              "    <g>\n",
              "        <path d=\"M19 3H5c-1.1 0-2 .9-2 2v14c0 1.1.9 2 2 2h14c1.1 0 2-.9 2-2V5c0-1.1-.9-2-2-2zM9 17H7v-7h2v7zm4 0h-2V7h2v10zm4 0h-2v-4h2v4z\"/>\n",
              "    </g>\n",
              "</svg>\n",
              "  </button>\n",
              "\n",
              "<style>\n",
              "  .colab-df-quickchart {\n",
              "      --bg-color: #E8F0FE;\n",
              "      --fill-color: #1967D2;\n",
              "      --hover-bg-color: #E2EBFA;\n",
              "      --hover-fill-color: #174EA6;\n",
              "      --disabled-fill-color: #AAA;\n",
              "      --disabled-bg-color: #DDD;\n",
              "  }\n",
              "\n",
              "  [theme=dark] .colab-df-quickchart {\n",
              "      --bg-color: #3B4455;\n",
              "      --fill-color: #D2E3FC;\n",
              "      --hover-bg-color: #434B5C;\n",
              "      --hover-fill-color: #FFFFFF;\n",
              "      --disabled-bg-color: #3B4455;\n",
              "      --disabled-fill-color: #666;\n",
              "  }\n",
              "\n",
              "  .colab-df-quickchart {\n",
              "    background-color: var(--bg-color);\n",
              "    border: none;\n",
              "    border-radius: 50%;\n",
              "    cursor: pointer;\n",
              "    display: none;\n",
              "    fill: var(--fill-color);\n",
              "    height: 32px;\n",
              "    padding: 0;\n",
              "    width: 32px;\n",
              "  }\n",
              "\n",
              "  .colab-df-quickchart:hover {\n",
              "    background-color: var(--hover-bg-color);\n",
              "    box-shadow: 0 1px 2px rgba(60, 64, 67, 0.3), 0 1px 3px 1px rgba(60, 64, 67, 0.15);\n",
              "    fill: var(--button-hover-fill-color);\n",
              "  }\n",
              "\n",
              "  .colab-df-quickchart-complete:disabled,\n",
              "  .colab-df-quickchart-complete:disabled:hover {\n",
              "    background-color: var(--disabled-bg-color);\n",
              "    fill: var(--disabled-fill-color);\n",
              "    box-shadow: none;\n",
              "  }\n",
              "\n",
              "  .colab-df-spinner {\n",
              "    border: 2px solid var(--fill-color);\n",
              "    border-color: transparent;\n",
              "    border-bottom-color: var(--fill-color);\n",
              "    animation:\n",
              "      spin 1s steps(1) infinite;\n",
              "  }\n",
              "\n",
              "  @keyframes spin {\n",
              "    0% {\n",
              "      border-color: transparent;\n",
              "      border-bottom-color: var(--fill-color);\n",
              "      border-left-color: var(--fill-color);\n",
              "    }\n",
              "    20% {\n",
              "      border-color: transparent;\n",
              "      border-left-color: var(--fill-color);\n",
              "      border-top-color: var(--fill-color);\n",
              "    }\n",
              "    30% {\n",
              "      border-color: transparent;\n",
              "      border-left-color: var(--fill-color);\n",
              "      border-top-color: var(--fill-color);\n",
              "      border-right-color: var(--fill-color);\n",
              "    }\n",
              "    40% {\n",
              "      border-color: transparent;\n",
              "      border-right-color: var(--fill-color);\n",
              "      border-top-color: var(--fill-color);\n",
              "    }\n",
              "    60% {\n",
              "      border-color: transparent;\n",
              "      border-right-color: var(--fill-color);\n",
              "    }\n",
              "    80% {\n",
              "      border-color: transparent;\n",
              "      border-right-color: var(--fill-color);\n",
              "      border-bottom-color: var(--fill-color);\n",
              "    }\n",
              "    90% {\n",
              "      border-color: transparent;\n",
              "      border-bottom-color: var(--fill-color);\n",
              "    }\n",
              "  }\n",
              "</style>\n",
              "\n",
              "  <script>\n",
              "    async function quickchart(key) {\n",
              "      const quickchartButtonEl =\n",
              "        document.querySelector('#' + key + ' button');\n",
              "      quickchartButtonEl.disabled = true;  // To prevent multiple clicks.\n",
              "      quickchartButtonEl.classList.add('colab-df-spinner');\n",
              "      try {\n",
              "        const charts = await google.colab.kernel.invokeFunction(\n",
              "            'suggestCharts', [key], {});\n",
              "      } catch (error) {\n",
              "        console.error('Error during call to suggestCharts:', error);\n",
              "      }\n",
              "      quickchartButtonEl.classList.remove('colab-df-spinner');\n",
              "      quickchartButtonEl.classList.add('colab-df-quickchart-complete');\n",
              "    }\n",
              "    (() => {\n",
              "      let quickchartButtonEl =\n",
              "        document.querySelector('#df-075d61cf-3098-48dc-87b5-995a5a23f9ce button');\n",
              "      quickchartButtonEl.style.display =\n",
              "        google.colab.kernel.accessAllowed ? 'block' : 'none';\n",
              "    })();\n",
              "  </script>\n",
              "</div>\n",
              "    </div>\n",
              "  </div>\n"
            ]
          },
          "metadata": {},
          "execution_count": 26
        }
      ]
    },
    {
      "cell_type": "code",
      "source": [
        "df_query = client.query(query).to_dataframe()\n",
        "df_query.to_string(header=False, index=False)\n",
        "\n",
        "cluster_info = []\n",
        "for i, row in df_query.iterrows():\n",
        " cluster_info.append(\"{0}, average spend ${2}, count of orders per person {1}, days since last order {3}\"\n",
        "  .format(row[\"centroid\"], row[\"count_orders\"], row[\"average_spend\"], row[\"days_since_last_order\"]) )\n",
        "\n",
        "cluster_info = (str.join(\"\\n\", cluster_info))\n",
        "print(cluster_info)"
      ],
      "metadata": {
        "colab": {
          "base_uri": "https://localhost:8080/"
        },
        "id": "HdPjxbYv_ojW",
        "executionInfo": {
          "status": "ok",
          "timestamp": 1727854647970,
          "user_tz": -330,
          "elapsed": 1465,
          "user": {
            "displayName": "",
            "userId": ""
          }
        },
        "outputId": "5bdccd6e-2d4a-44a5-bcb6-0f659f5c4fbb"
      },
      "execution_count": 27,
      "outputs": [
        {
          "output_type": "stream",
          "name": "stdout",
          "text": [
            "cluster 1, average spend $43.46, count of orders per person 1.28, days since last order 885.04\n",
            "cluster 2, average spend $671.9, count of orders per person 1.28, days since last order 781.58\n",
            "cluster 3, average spend $183.09, count of orders per person 1.25, days since last order 811.64\n",
            "cluster 4, average spend $58.01, count of orders per person 3.7, days since last order 776.47\n",
            "cluster 5, average spend $45.57, count of orders per person 1.3, days since last order 723.95\n"
          ]
        }
      ]
    },
    {
      "cell_type": "code",
      "source": [
        "prompt = f\"\"\"\n",
        "You're a creative brand strategist, given the following clusters, come up with \\\n",
        "creative brand persona, a catchy title, and next marketing action, \\\n",
        "explained step by step.\n",
        "\n",
        "Clusters:\n",
        "{cluster_info}\n",
        "\n",
        "For each Cluster:\n",
        "* Title:\n",
        "* Persona:\n",
        "* Next marketing step:\n",
        "\"\"\""
      ],
      "metadata": {
        "id": "WgViS61p_v22",
        "executionInfo": {
          "status": "ok",
          "timestamp": 1727854651882,
          "user_tz": -330,
          "elapsed": 3,
          "user": {
            "displayName": "",
            "userId": ""
          }
        }
      },
      "execution_count": 28,
      "outputs": []
    },
    {
      "cell_type": "code",
      "source": [
        "#prompt:  Use the Vertex AI language_models API to call the PaLM2 text-bison model and generate a marketing campaign using the variable prompt. Use the following model settings: max_output_tokens=1024, temperature=0.4\n",
        "\n",
        "model = TextGenerationModel.from_pretrained(\"text-bison@001\")\n",
        "response = model.predict(prompt, max_output_tokens=1024, temperature=0.4)\n",
        "\n",
        "print(response.text)"
      ],
      "metadata": {
        "colab": {
          "base_uri": "https://localhost:8080/"
        },
        "id": "Yu1-KeZi_0qx",
        "executionInfo": {
          "status": "ok",
          "timestamp": 1727854658440,
          "user_tz": -330,
          "elapsed": 4400,
          "user": {
            "displayName": "",
            "userId": ""
          }
        },
        "outputId": "1b955a24-767a-49ff-ecad-c9fabd6d8d2e"
      },
      "execution_count": 29,
      "outputs": [
        {
          "output_type": "stream",
          "name": "stdout",
          "text": [
            "**Cluster 1**\n",
            "\n",
            "* Title: The Casual Shopper\n",
            "* Persona: This is someone who enjoys shopping for everyday items, but doesn't want to spend a lot of money. They are typically looking for good deals and are not afraid to shop around.\n",
            "* Next marketing step: Send this persona coupons and promo codes for their favorite items. You could also offer them a loyalty program that rewards them for their purchases.\n",
            "\n",
            "**Cluster 2**\n",
            "\n",
            "* Title: The Luxury Shopper\n",
            "* Persona: This is someone who enjoys shopping for high-end items and is not afraid to spend money. They are typically looking for the best quality products and are willing to pay a premium for them.\n",
            "* Next marketing step: Send this persona emails about new products and sales. You could also host events or trunk shows where they can see and try out new items.\n",
            "\n",
            "**Cluster 3**\n",
            "\n",
            "* Title: The Impulsive Shopper\n",
            "* Persona: This is someone who makes impulse purchases and is not always very careful about their spending. They are typically looking for something new and exciting and are not afraid to take risks.\n",
            "* Next marketing step: Use social media to target this persona with ads for new products. You could also run contests or giveaways that appeal to their sense of adventure.\n",
            "\n",
            "**Cluster 4**\n",
            "\n",
            "* Title: The Family Shopper\n",
            "* Persona: This is someone who shops for their family and is looking for good deals on everyday items. They are typically looking for items that are durable and will last.\n",
            "* Next marketing step: Send this persona emails about sales on family-friendly items. You could also offer them a loyalty program that rewards them for their purchases.\n",
            "\n",
            "**Cluster 5**\n",
            "\n",
            "* Title: The Loyal Shopper\n",
            "* Persona: This is someone who is loyal to a particular brand or store. They are typically looking for the best value for their money and are not afraid to switch brands if they find a better deal.\n",
            "* Next marketing step: Send this persona emails about new products and sales from your store. You could also offer them a loyalty program that rewards them for their purchases.\n"
          ]
        }
      ]
    }
  ]
}